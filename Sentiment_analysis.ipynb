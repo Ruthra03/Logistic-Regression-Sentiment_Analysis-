{
  "nbformat": 4,
  "nbformat_minor": 0,
  "metadata": {
    "colab": {
      "provenance": [],
      "authorship_tag": "ABX9TyOvw2mN9dqHrzdcywoA74fz",
      "include_colab_link": true
    },
    "kernelspec": {
      "name": "python3",
      "display_name": "Python 3"
    },
    "language_info": {
      "name": "python"
    }
  },
  "cells": [
    {
      "cell_type": "markdown",
      "metadata": {
        "id": "view-in-github",
        "colab_type": "text"
      },
      "source": [
        "<a href=\"https://colab.research.google.com/github/Ruthra03/Logistic-Regression-Sentiment_Analysis-/blob/main/Sentiment_analysis.ipynb\" target=\"_parent\"><img src=\"https://colab.research.google.com/assets/colab-badge.svg\" alt=\"Open In Colab\"/></a>"
      ]
    },
    {
      "cell_type": "code",
      "execution_count": 1,
      "metadata": {
        "id": "f5YQ24TFL9Mq"
      },
      "outputs": [],
      "source": [
        "x1=[3,3,5,1,2,6,3,1,5,1]\n",
        "x2=[2,3,1,3,1,4,1,5,1,1]\n",
        "y=[0,0,1,0,0,0,1,0,1,0]"
      ]
    },
    {
      "cell_type": "code",
      "source": [
        "w1=1.5\n",
        "w2=-3.5\n",
        "lr=0.1"
      ],
      "metadata": {
        "id": "vznEPIYzMJgS"
      },
      "execution_count": 7,
      "outputs": []
    },
    {
      "cell_type": "code",
      "source": [
        "import math\n",
        "z=[]\n",
        "pos=[]\n",
        "neg=[]\n",
        "cost=[]\n",
        "w11=[]\n",
        "w12=[]\n",
        "for i in range(len(x1)):\n",
        "  z.append(0)\n",
        "  pos.append(0)\n",
        "  neg.append(0)\n",
        "  cost.append(0)\n",
        "  w11.append(0)\n",
        "  w12.append(0)"
      ],
      "metadata": {
        "id": "NXekmngsML9b"
      },
      "execution_count": 8,
      "outputs": []
    },
    {
      "cell_type": "code",
      "source": [
        "def logistic(fr,lt):\n",
        " sum=0\n",
        " costavg=0\n",
        "\n",
        " for i in range(fr,lt):\n",
        "   z1=x1[i]*w1+x2[i]*w2\n",
        "   z.append(z1)\n",
        "   po=1/(1+math.exp(-z1))\n",
        "   pos[i]=po\n",
        "   neg[i]=1-pos[i]\n",
        "   cos=(y[i]*math.log(pos[i],10)+(1-y[i])*math.log(neg[i],10))*-1\n",
        "   cost[i]=cos\n",
        "   sum+=cost[i]\n",
        " costavg=sum/(lt-fr)\n",
        " return costavg"
      ],
      "metadata": {
        "id": "yZJ4CN5-MOY0"
      },
      "execution_count": 9,
      "outputs": []
    },
    {
      "cell_type": "code",
      "source": [
        "def updateweight(fr,lt,w1,w2):\n",
        "  sum1=0\n",
        "  sum2=0\n",
        "  for i in range(fr,lt):\n",
        "    w11[i]=x1[i]*(pos[i]-y[i])\n",
        "    w12[i]=x2[i]*(pos[i]-y[i])\n",
        "    sum1+=w11[i]\n",
        "    sum2+=w12[i]\n",
        "  avgw1=sum1/(lt-fr)\n",
        "  avgw2=sum2/(lt-fr)\n",
        "  w1=w1-lr*avgw1\n",
        "  w2=w2-lr*avgw2\n",
        "  return w1,w2"
      ],
      "metadata": {
        "id": "TzHgQWjFMQxy"
      },
      "execution_count": 10,
      "outputs": []
    },
    {
      "cell_type": "code",
      "source": [
        "trainper=int(input(\"Enter Training Percentage: \"))\n",
        "train=(trainper*len(x1))//100\n",
        "pastavg=0\n",
        "for i in range(100):\n",
        "\n",
        " costavg=logistic(0,train)\n",
        " if(costavg-pastavg>0):\n",
        "  if(costavg-pastavg<0.001):\n",
        "    break\n",
        " else:\n",
        "  if(costavg-pastavg>-0.001):\n",
        "    break\n",
        " pastavg=costavg\n",
        " w1,w2=updateweight(0,train,w1,w2)\n",
        "logistic(train,len(x1))\n",
        "for i in range(train,len(x1)):\n",
        "  if(pos[i]>neg[i] and pos[i]>0.6):\n",
        "    print(x1,x2,\" Positive Sentiment\")\n",
        "  elif(neg[i]>pos[i] and pos[i]<0.3):\n",
        "    print(x1,x2,\" Negative Sentiment\")\n",
        "  else:\n",
        "    print(\"Can't classify\")"
      ],
      "metadata": {
        "colab": {
          "base_uri": "https://localhost:8080/"
        },
        "id": "P2bWFyUjMTfq",
        "outputId": "597fe83b-e8db-40b7-d50a-c53349daf1cd"
      },
      "execution_count": 15,
      "outputs": [
        {
          "output_type": "stream",
          "name": "stdout",
          "text": [
            "Enter Training Percentage: 85\n",
            "[3, 3, 5, 1, 2, 6, 3, 1, 5, 1] [2, 3, 1, 3, 1, 4, 1, 5, 1, 1]  Positive Sentiment\n",
            "[3, 3, 5, 1, 2, 6, 3, 1, 5, 1] [2, 3, 1, 3, 1, 4, 1, 5, 1, 1]  Negative Sentiment\n"
          ]
        }
      ]
    },
    {
      "cell_type": "code",
      "source": [
        "pos"
      ],
      "metadata": {
        "colab": {
          "base_uri": "https://localhost:8080/"
        },
        "id": "WFoqThGjMWC8",
        "outputId": "fd6c5c9e-27d4-4535-daf9-b3acc7953428"
      },
      "execution_count": 16,
      "outputs": [
        {
          "output_type": "execute_result",
          "data": {
            "text/plain": [
              "[0.07340767026005884,\n",
              " 0.0023614230455361825,\n",
              " 0.9813976126480816,\n",
              " 0.00011895357608225788,\n",
              " 0.3728265781693664,\n",
              " 0.006237179246312453,\n",
              " 0.7261460260183682,\n",
              " 1.0620006098890328e-07,\n",
              " 0.9813976126480816,\n",
              " 0.11759801650709356]"
            ]
          },
          "metadata": {},
          "execution_count": 16
        }
      ]
    },
    {
      "cell_type": "code",
      "source": [
        "neg"
      ],
      "metadata": {
        "colab": {
          "base_uri": "https://localhost:8080/"
        },
        "id": "Ps8Qj5F3MqB9",
        "outputId": "d65312ee-4914-47c4-d8bf-51249113865b"
      },
      "execution_count": 17,
      "outputs": [
        {
          "output_type": "execute_result",
          "data": {
            "text/plain": [
              "[0.9265923297399412,\n",
              " 0.9976385769544638,\n",
              " 0.018602387351918437,\n",
              " 0.9998810464239177,\n",
              " 0.6271734218306336,\n",
              " 0.9937628207536875,\n",
              " 0.2738539739816318,\n",
              " 0.999999893799939,\n",
              " 0.018602387351918437,\n",
              " 0.8824019834929064]"
            ]
          },
          "metadata": {},
          "execution_count": 17
        }
      ]
    },
    {
      "cell_type": "code",
      "source": [],
      "metadata": {
        "id": "dugudRFPMrZa"
      },
      "execution_count": null,
      "outputs": []
    }
  ]
}